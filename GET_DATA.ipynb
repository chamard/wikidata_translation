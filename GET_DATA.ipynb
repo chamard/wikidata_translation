{
 "cells": [
  {
   "cell_type": "code",
   "execution_count": 388,
   "metadata": {},
   "outputs": [],
   "source": [
    "import requests, re, random\n",
    "from SPARQLWrapper import SPARQLWrapper, JSON"
   ]
  },
  {
   "cell_type": "markdown",
   "metadata": {},
   "source": [
    "### Data Gathering"
   ]
  },
  {
   "cell_type": "code",
   "execution_count": 186,
   "metadata": {},
   "outputs": [],
   "source": [
    "def get_revisions(Property,rvcontinue=None):\n",
    "    \"\"\"\n",
    "    Input:\n",
    "    Property,rvcontinue\n",
    "    \n",
    "    Output:\n",
    "    revisions, rvcontinue\n",
    "    \"\"\"\n",
    "    URL = \"https://www.wikidata.org/w/api.php\"\n",
    "    # defining a params dict for the parameters to be sent to the API\n",
    "    PARAMS = {\"action\":\"query\",\n",
    "              \"prop\":\"revisions\",\n",
    "              \"format\":\"json\",\n",
    "              \"rvlimit\":\"500\",\n",
    "              \"titles\":\"Property:{}\".format(Property),\n",
    "              \"rvdir\":\"newer\",\n",
    "              \"rvcontinue\": rvcontinue}\n",
    "    \n",
    "    # sending get request and saving the response as response object\n",
    "    r = requests.get(url = URL,params = PARAMS)\n",
    "\n",
    "    # extracting data in json format\n",
    "    data = r.json()\n",
    "    \n",
    "    # Get revisions\n",
    "    pages = data['query']['pages']\n",
    "    keys = pages.keys()\n",
    "    revisions = [pages[k]['revisions'] for k in keys]\n",
    "    rvcontinue = data['continue']['rvcontinue'] if 'continue' in data else None\n",
    "    \n",
    "    return revisions, rvcontinue"
   ]
  },
  {
   "cell_type": "code",
   "execution_count": 6,
   "metadata": {},
   "outputs": [],
   "source": [
    "def get_all_revisions(Property,rvcontinue=None):\n",
    "    \n",
    "    all_revisions = []\n",
    "        \n",
    "    while True:\n",
    "        revisions, rvcontinue = get_revisions(Property,rvcontinue)\n",
    "        all_revisions += revisions[0]\n",
    "        \n",
    "        if rvcontinue is None:\n",
    "            break\n",
    "\n",
    "    return all_revisions"
   ]
  },
  {
   "cell_type": "code",
   "execution_count": 324,
   "metadata": {},
   "outputs": [],
   "source": [
    "all_revisions = get_all_revisions('P856')"
   ]
  },
  {
   "cell_type": "markdown",
   "metadata": {},
   "source": [
    "### Data parsing\n",
    "\n",
    "\n",
    "|Attribute |Add| Update |Remove|\n",
    "|---|---|---|---|\n",
    "|label |wbsetlabel-add| wbsetlabel-set| wbsetlabel-remove|\n",
    "|description |wbsetdescription-add| wbsetdescription-set| wbsetdescription-remove|\n",
    "|alias |wbsetaliases-add |wbsetaliases-add-remove| wbsetaliases-remove|\n",
    "\n",
    "wbsetlabeldescriptionaliases\n",
    "wbeditentity-create"
   ]
  },
  {
   "cell_type": "code",
   "execution_count": 192,
   "metadata": {},
   "outputs": [],
   "source": [
    "tag_pattern = \"(?<=\\/\\*)(.*)(?=\\*\\/)\"\n",
    "description_pattern = \"(?<=\\*\\/)[^\\]]+\"\n",
    "language_pattern = \"(?<=\\|)[^\\]]+\""
   ]
  },
  {
   "cell_type": "code",
   "execution_count": 293,
   "metadata": {},
   "outputs": [],
   "source": [
    "attributes_dict = {\"wbsetlabel-\":[\"label\"],\n",
    "                   \"wbeditentity-create\":[\"label\"],\n",
    "                   \"wbsetdescription-\":[\"description\"],\n",
    "                   \"wbsetaliases-\":[\"alias\"],\n",
    "                   \"wbsetlabeldescriptionaliases\":[\"label\",\"description\",\"alias\"]}\n",
    "\n",
    "actions_dict = {\"-add\":\"add\",\n",
    "                \"-update\":\"update\",\n",
    "                \"-set\":\"update\",\n",
    "                \"-add-remove\":\"update\",\n",
    "                \"-remove\":\"remove\"}"
   ]
  },
  {
   "cell_type": "code",
   "execution_count": 398,
   "metadata": {},
   "outputs": [],
   "source": [
    "def parse_revisions(all_revisions):\n",
    "    for revision in all_revisions.copy():\n",
    "        comment = revision['comment']\n",
    "        tag = re.findall(tag_pattern, comment)\n",
    "        if(not tag):\n",
    "            all_revisions.remove(revision)\n",
    "            continue\n",
    "\n",
    "        tag =tag[0]\n",
    "        attributes = [v for k,v in attributes_dict.items() if k in tag]\n",
    "\n",
    "        # If there is no attribute, we delete the element from the list\n",
    "        if(not attributes):\n",
    "            all_revisions.remove(revision)\n",
    "            continue\n",
    "        attributes = attributes[0]\n",
    "\n",
    "        action = [v for k,v in actions_dict.items() if k in tag]\n",
    "        if not action:\n",
    "            if 'wbeditentity-create' in tag:\n",
    "                action = ['add']\n",
    "            elif 'wbsetlabeldescriptionaliases' in tag:\n",
    "                action = ['uptdate']\n",
    "        #description =re.findall(description_pattern, comment)[0].strip()\n",
    "        language = re.findall(language_pattern,tag)[0].strip()\n",
    "\n",
    "        revision['label'] = language if 'label' in attributes else None\n",
    "        revision['description'] = language if 'description' in attributes else None\n",
    "        revision['alias'] = language if 'alias' in attributes else None\n",
    "\n",
    "        revision['action'] = action[0]\n",
    "        #revision['description'] = description\n",
    "        revision['language'] = language\n",
    "\n",
    "        revision.pop('comment', None)\n",
    "        revision.pop('parentid',None)\n",
    "        revision.pop('user',None)\n",
    "        if('anon' in revision):\n",
    "            revision.pop('anon',None)\n",
    "    \n",
    "    return all_revisions"
   ]
  },
  {
   "cell_type": "markdown",
   "metadata": {},
   "source": [
    "### Gather data from several properties"
   ]
  },
  {
   "cell_type": "code",
   "execution_count": 340,
   "metadata": {},
   "outputs": [],
   "source": [
    "sparql = SPARQLWrapper(\"https://query.wikidata.org/sparql\")\n",
    "sparql.setQuery(\"\"\"SELECT DISTINCT ?property\n",
    "    WHERE\n",
    "    {\n",
    "      ?property rdf:type wikibase:Property.\n",
    "    }\n",
    "    ORDER by ?property\"\"\")\n",
    "sparql.setReturnFormat(JSON)\n",
    "results = sparql.query().convert()\n",
    "\n",
    "property_name_list = []\n",
    "for result in results[\"results\"][\"bindings\"]:\n",
    "    property_name_list.append(re.findall('([^\\/]*)$',result['property']['value'])[0])"
   ]
  },
  {
   "cell_type": "code",
   "execution_count": 401,
   "metadata": {},
   "outputs": [],
   "source": [
    "random.seed(1000)\n",
    "property_number = 50\n",
    "sample_property_name_list = random.choices(property_list,k=property_number - 1)\n",
    "sample_property_name_list += ['P856']"
   ]
  },
  {
   "cell_type": "code",
   "execution_count": 402,
   "metadata": {},
   "outputs": [],
   "source": [
    "sample_property_name_list = list(set(sample_property_name_list))"
   ]
  },
  {
   "cell_type": "code",
   "execution_count": 405,
   "metadata": {},
   "outputs": [
    {
     "name": "stdout",
     "output_type": "stream",
     "text": [
      "Get P4212 revisions\n",
      "Get P3862 revisions\n",
      "Get P1055 revisions\n",
      "Get P1363 revisions\n",
      "Get P4401 revisions\n",
      "Get P2525 revisions\n",
      "Get P3573 revisions\n",
      "Get P2914 revisions\n",
      "Get P1453 revisions\n",
      "Get P4989 revisions\n",
      "Get P2531 revisions\n",
      "Get P210 revisions\n",
      "Get P3471 revisions\n",
      "Get P2540 revisions\n",
      "Get P2198 revisions\n",
      "Get P5524 revisions\n",
      "Get P467 revisions\n",
      "Get P5254 revisions\n",
      "Get P1895 revisions\n",
      "Get P5429 revisions\n",
      "Get P860 revisions\n",
      "Get P4457 revisions\n",
      "Get P3421 revisions\n",
      "Get P887 revisions\n",
      "Get P2655 revisions\n",
      "Get P675 revisions\n",
      "Get P3184 revisions\n",
      "Get P2682 revisions\n",
      "Get P5147 revisions\n",
      "Get P3796 revisions\n",
      "Get P4976 revisions\n",
      "Get P1798 revisions\n",
      "Get P2854 revisions\n",
      "Get P3566 revisions\n",
      "Get P836 revisions\n",
      "Get P856 revisions\n",
      "Get P1999 revisions\n",
      "Get P4439 revisions\n",
      "Get P249 revisions\n",
      "Get P3469 revisions\n",
      "Get P2046 revisions\n",
      "Get P5353 revisions\n",
      "Get P1614 revisions\n",
      "Get P2178 revisions\n",
      "Get P1399 revisions\n",
      "Get P4464 revisions\n",
      "Get P3438 revisions\n",
      "Get P4596 revisions\n",
      "Get P3420 revisions\n",
      "Get P5559 revisions\n"
     ]
    }
   ],
   "source": [
    "output = []\n",
    "for property_name in sample_property_name_list:\n",
    "    print(\"Get {} revisions\".format(property_name))\n",
    "    all_revisions = get_all_revisions(property_name)\n",
    "    all_revisions = parse_revisions(all_revisions)\n",
    "    for r in all_revisions:\n",
    "        r['property'] = property_name\n",
    "    output += all_revisions"
   ]
  },
  {
   "cell_type": "markdown",
   "metadata": {},
   "source": [
    "### Save data into a CSV"
   ]
  },
  {
   "cell_type": "code",
   "execution_count": 406,
   "metadata": {},
   "outputs": [],
   "source": [
    "import csv\n",
    "\n",
    "keys = all_revisions[0].keys()\n",
    "\n",
    "with open('output.csv', 'w+') as output_file: # wb if python <3.x \n",
    "    dict_writer = csv.DictWriter(output_file, keys)\n",
    "    dict_writer.writeheader()\n",
    "    dict_writer.writerows(output)"
   ]
  },
  {
   "cell_type": "code",
   "execution_count": null,
   "metadata": {},
   "outputs": [],
   "source": []
  }
 ],
 "metadata": {
  "kernelspec": {
   "display_name": "Python 3",
   "language": "python",
   "name": "python3"
  },
  "language_info": {
   "codemirror_mode": {
    "name": "ipython",
    "version": 3
   },
   "file_extension": ".py",
   "mimetype": "text/x-python",
   "name": "python",
   "nbconvert_exporter": "python",
   "pygments_lexer": "ipython3",
   "version": "3.6.5"
  }
 },
 "nbformat": 4,
 "nbformat_minor": 2
}
