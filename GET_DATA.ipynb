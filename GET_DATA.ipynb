{
 "cells": [
  {
   "cell_type": "code",
   "execution_count": 4,
   "metadata": {},
   "outputs": [],
   "source": [
    "import requests, re"
   ]
  },
  {
   "cell_type": "markdown",
   "metadata": {},
   "source": [
    "### Data Gathering"
   ]
  },
  {
   "cell_type": "code",
   "execution_count": 5,
   "metadata": {},
   "outputs": [],
   "source": [
    "def get_revisions(Property,rvcontinue=None):\n",
    "    \"\"\"\n",
    "    Input:\n",
    "    Property,rvcontinue\n",
    "    \n",
    "    Output:\n",
    "    revisions, rvcontinue\n",
    "    \"\"\"\n",
    "    URL = \"https://www.wikidata.org/w/api.php\"\n",
    "    # defining a params dict for the parameters to be sent to the API\n",
    "    PARAMS = {\"action\":\"query\",\n",
    "              \"prop\":\"revisions\",\n",
    "              \"format\":\"json\",\n",
    "              \"rvlimit\":\"50\",\n",
    "              \"titles\":\"Property:{}\".format(Property),\n",
    "              \"rvdir\":\"newer\",\n",
    "              \"rvcontinue\": rvcontinue}\n",
    "    \n",
    "    # sending get request and saving the response as response object\n",
    "    r = requests.get(url = URL,params = PARAMS)\n",
    "\n",
    "    # extracting data in json format\n",
    "    data = r.json()\n",
    "    \n",
    "    # Get revisions\n",
    "    pages = data['query']['pages']\n",
    "    keys = pages.keys()\n",
    "    revisions = [pages[k]['revisions'] for k in keys]\n",
    "    rvcontinue = data['continue']['rvcontinue'] if 'continue' in data else None\n",
    "    \n",
    "    return revisions, rvcontinue"
   ]
  },
  {
   "cell_type": "code",
   "execution_count": 6,
   "metadata": {},
   "outputs": [],
   "source": [
    "def get_all_revisions(Property,rvcontinue=None):\n",
    "    \n",
    "    all_revisions = []\n",
    "        \n",
    "    while True:\n",
    "        revisions, rvcontinue = get_revisions(Property,rvcontinue)\n",
    "        all_revisions += revisions[0]\n",
    "        \n",
    "        if rvcontinue is None:\n",
    "            break\n",
    "\n",
    "    return all_revisions"
   ]
  },
  {
   "cell_type": "code",
   "execution_count": 7,
   "metadata": {},
   "outputs": [],
   "source": [
    "all_revisions = get_all_revisions('P3960')"
   ]
  },
  {
   "cell_type": "markdown",
   "metadata": {},
   "source": [
    "### Data parsing\n",
    "\n",
    "\n",
    "|Attribute |Add| Update |Remove|\n",
    "|---|---|---|---|\n",
    "|label |wbsetlabel-add| wbsetlabel-set| wbsetlabel-remove|\n",
    "|description |wbsetdescription-add| wbsetdescription-set| wbsetdescription-remove|\n",
    "|alias |wbsetaliases-add |wbsetaliases-add-remove| wbsetaliases-remove|\n",
    "Edit message for changes related to labels, descriptions and aliases of Wikidata\n",
    "properties"
   ]
  },
  {
   "cell_type": "code",
   "execution_count": 28,
   "metadata": {},
   "outputs": [],
   "source": [
    "string = all_revisions[20]['comment']\n",
    "tag_pattern = \"(?<=\\/\\*)(.*)(?=\\*\\/)\"\n",
    "description_pattern = \"(?<=\\*\\/)[^\\]]+\""
   ]
  },
  {
   "cell_type": "code",
   "execution_count": 29,
   "metadata": {},
   "outputs": [],
   "source": [
    "attributes_dict = {\"label\":\"wbsetlabel\",\n",
    "                 \"description\":\"wbsetdescription\",\n",
    "                 \"alias\":\"wbsetaliases\"}\n",
    "\n",
    "actions_dict = {\"Add\":\"-add\",\n",
    "               \"Update\":\"-update\",\n",
    "               \"Remove\":\"-remove\"}"
   ]
  },
  {
   "cell_type": "code",
   "execution_count": 30,
   "metadata": {},
   "outputs": [],
   "source": [
    "tag = re.findall(tag_pattern, string)[0].strip()\n",
    "description =re.findall(description_pattern, string)[0].strip()"
   ]
  },
  {
   "cell_type": "code",
   "execution_count": 39,
   "metadata": {},
   "outputs": [
    {
     "name": "stdout",
     "output_type": "stream",
     "text": [
      "wbsetlabel-add:1|hu\n"
     ]
    }
   ],
   "source": [
    "print(tag)"
   ]
  },
  {
   "cell_type": "code",
   "execution_count": 37,
   "metadata": {},
   "outputs": [
    {
     "data": {
      "text/plain": [
       "['label']"
      ]
     },
     "execution_count": 37,
     "metadata": {},
     "output_type": "execute_result"
    }
   ],
   "source": [
    "[k for k,v in attributes_dict.items() if v in tag]"
   ]
  },
  {
   "cell_type": "code",
   "execution_count": 38,
   "metadata": {},
   "outputs": [
    {
     "data": {
      "text/plain": [
       "['Add']"
      ]
     },
     "execution_count": 38,
     "metadata": {},
     "output_type": "execute_result"
    }
   ],
   "source": [
    "[k for k,v in actions_dict.items() if v in tag]"
   ]
  },
  {
   "cell_type": "code",
   "execution_count": null,
   "metadata": {},
   "outputs": [],
   "source": []
  }
 ],
 "metadata": {
  "kernelspec": {
   "display_name": "Python 3",
   "language": "python",
   "name": "python3"
  },
  "language_info": {
   "codemirror_mode": {
    "name": "ipython",
    "version": 3
   },
   "file_extension": ".py",
   "mimetype": "text/x-python",
   "name": "python",
   "nbconvert_exporter": "python",
   "pygments_lexer": "ipython3",
   "version": "3.6.5"
  }
 },
 "nbformat": 4,
 "nbformat_minor": 2
}
