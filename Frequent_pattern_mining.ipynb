{
 "cells": [
  {
   "cell_type": "code",
   "execution_count": 1,
   "metadata": {},
   "outputs": [
    {
     "name": "stderr",
     "output_type": "stream",
     "text": [
      "/anaconda3/lib/python3.6/site-packages/h5py/__init__.py:36: FutureWarning: Conversion of the second argument of issubdtype from `float` to `np.floating` is deprecated. In future, it will be treated as `np.float64 == np.dtype(float).type`.\n",
      "  from ._conv import register_converters as _register_converters\n"
     ]
    }
   ],
   "source": [
    "import pandas as pd\n",
    "import Orange\n",
    "from orangecontrib.associate.fpgrowth import * \n",
    "import matplotlib.pyplot as plt\n",
    "from matplotlib_venn import venn2"
   ]
  },
  {
   "cell_type": "markdown",
   "metadata": {},
   "source": [
    "# Get the Data"
   ]
  },
  {
   "cell_type": "code",
   "execution_count": 2,
   "metadata": {},
   "outputs": [],
   "source": [
    "label_creations_df = pd.read_csv(f'data/all_label_creations.csv')"
   ]
  },
  {
   "cell_type": "code",
   "execution_count": 3,
   "metadata": {},
   "outputs": [],
   "source": [
    "# Some properties are duplicated in the CSV...\n",
    "label_creations_df.drop_duplicates(inplace=True)\n",
    "# Sort revisions by properties and timestamps\n",
    "label_creations_df.sort_values([\"property\",\"timestamp\"],inplace=True)\n",
    "# Delete properties with NaN values\n",
    "label_creations_df = label_creations_df.loc[~label_creations_df.language.isna()]"
   ]
  },
  {
   "cell_type": "markdown",
   "metadata": {},
   "source": [
    "# Build the dataframe"
   ]
  },
  {
   "cell_type": "code",
   "execution_count": 4,
   "metadata": {},
   "outputs": [],
   "source": [
    "# Give a position for each label\n",
    "#\n",
    "# e.g. 1 means first label created\n",
    "#      n means n label translated\n",
    "\n",
    "last_prop,i,position = None,1,[]\n",
    "\n",
    "for index, row in label_creations_df.copy().iterrows():\n",
    "    if(row['property'] != last_prop):\n",
    "        i, last_prop = 1, row['property']\n",
    "    position.append(i)\n",
    "    i += 1\n",
    "\n",
    "label_creations_df['position'] = position"
   ]
  },
  {
   "cell_type": "code",
   "execution_count": 5,
   "metadata": {},
   "outputs": [],
   "source": [
    "# Create a dataframe given the revision's history for each property\n",
    "revisions_history_df= pd.pivot_table(data=label_creations_df,\n",
    "                                     index=\"property\",\n",
    "                                     columns=\"position\",\n",
    "                                     values='language',\n",
    "                                     aggfunc=lambda x: ' '.join(x))\n",
    "\n",
    "revisions_history_df.fillna('',inplace=True)"
   ]
  },
  {
   "cell_type": "code",
   "execution_count": 6,
   "metadata": {},
   "outputs": [],
   "source": [
    "# Create dictionnaries to easily encode and decode the languages\n",
    "languages = label_creations_df.language.unique()\n",
    "code_to_language = {i:el for i,el in enumerate(languages)}\n",
    "language_to_code = {el:i for i,el in code_to_language.items()}"
   ]
  },
  {
   "cell_type": "code",
   "execution_count": 7,
   "metadata": {},
   "outputs": [],
   "source": [
    "def decode_code_list(l):\n",
    "    return [code_to_language[i] for i in list(l)]"
   ]
  },
  {
   "cell_type": "code",
   "execution_count": 8,
   "metadata": {},
   "outputs": [],
   "source": [
    "def code_language_list(l):\n",
    "    return [language_to_code[i] for i in list(l)]"
   ]
  },
  {
   "cell_type": "code",
   "execution_count": 9,
   "metadata": {},
   "outputs": [],
   "source": [
    "# Convert revisions_history_df to a format accepted by Orange to mine the frequent patterns\n",
    "history = []\n",
    "for _,row in revisions_history_df.iterrows():\n",
    "    history.append([language_to_code[el] for el in row.values if el])\n",
    "    "
   ]
  },
  {
   "cell_type": "markdown",
   "metadata": {},
   "source": [
    "### First value"
   ]
  },
  {
   "cell_type": "code",
   "execution_count": 10,
   "metadata": {},
   "outputs": [
    {
     "data": {
      "text/plain": [
       "1\n",
       "en       89.594111\n",
       "fr        5.730203\n",
       "de        2.666136\n",
       "nl        0.915241\n",
       "it        0.616793\n",
       "zh        0.577000\n",
       "es        0.497413\n",
       "nb        0.278552\n",
       "ru        0.218862\n",
       "sv        0.198965\n",
       "fi        0.119379\n",
       "cs        0.099483\n",
       "pt-br     0.079586\n",
       "be        0.079586\n",
       "he        0.079586\n",
       "pl        0.059690\n",
       "ko        0.039793\n",
       "nn        0.039793\n",
       "fa        0.019897\n",
       "hi        0.019897\n",
       "yue       0.019897\n",
       "ja        0.019897\n",
       "bn        0.019897\n",
       "Name: 2, dtype: float64"
      ]
     },
     "execution_count": 10,
     "metadata": {},
     "output_type": "execute_result"
    }
   ],
   "source": [
    "revisions_history_df.loc[:,[1,2]].groupby([1])[2].count().sort_values(ascending=False)/50.26"
   ]
  },
  {
   "cell_type": "code",
   "execution_count": 11,
   "metadata": {},
   "outputs": [
    {
     "data": {
      "text/plain": [
       "1    2      \n",
       "en   fr         27.755671\n",
       "     de         11.400716\n",
       "     ru          8.436132\n",
       "     nl          6.904099\n",
       "fr   en          5.372065\n",
       "en   pt          3.461998\n",
       "     uk          3.263032\n",
       "     es          3.044170\n",
       "     sr          2.964584\n",
       "de   en          2.606446\n",
       "en   it          2.347791\n",
       "     da          1.949861\n",
       "     hu          1.790688\n",
       "     pl          1.711102\n",
       "     en-gb       1.711102\n",
       "     ca          1.691206\n",
       "     fa          1.532033\n",
       "     mk          1.273378\n",
       "     nb          1.134103\n",
       "     cs          0.895344\n",
       "     sv          0.855551\n",
       "     ja          0.835655\n",
       "     he          0.716275\n",
       "nl   en          0.676482\n",
       "zh   en          0.537207\n",
       "it   en          0.517310\n",
       "en   ko          0.457620\n",
       "     fi          0.378034\n",
       "     zh          0.358138\n",
       "     zh-hans     0.358138\n",
       "                  ...    \n",
       "it   ru          0.019897\n",
       "ja   en          0.019897\n",
       "en   af          0.019897\n",
       "de   fr          0.019897\n",
       "sv   da          0.019897\n",
       "yue  en          0.019897\n",
       "cs   de          0.019897\n",
       "bn   de          0.019897\n",
       "en   en-ca       0.019897\n",
       "     sq          0.019897\n",
       "hi   ar          0.019897\n",
       "he   en          0.019897\n",
       "en   simple      0.019897\n",
       "     yue         0.019897\n",
       "     nn          0.019897\n",
       "es   cs          0.019897\n",
       "     nl          0.019897\n",
       "     sr          0.019897\n",
       "fa   en          0.019897\n",
       "fi   de          0.019897\n",
       "en   ka          0.019897\n",
       "fr   nl          0.019897\n",
       "en   hy          0.019897\n",
       "fr   sv          0.019897\n",
       "     uk          0.019897\n",
       "en   gl          0.019897\n",
       "     te          0.019897\n",
       "he   be          0.019897\n",
       "en   et          0.019897\n",
       "fr   zh          0.019897\n",
       "Name: 2, Length: 104, dtype: float64"
      ]
     },
     "execution_count": 11,
     "metadata": {},
     "output_type": "execute_result"
    }
   ],
   "source": [
    "revisions_history_df.loc[:,[1,2]].groupby([1,2])[2].count().sort_values(ascending=False)/50.26"
   ]
  },
  {
   "cell_type": "markdown",
   "metadata": {},
   "source": [
    "# Frequent items analysis"
   ]
  },
  {
   "cell_type": "code",
   "execution_count": 12,
   "metadata": {},
   "outputs": [],
   "source": [
    "min_support = 0.7"
   ]
  },
  {
   "cell_type": "code",
   "execution_count": 13,
   "metadata": {},
   "outputs": [
    {
     "name": "stdout",
     "output_type": "stream",
     "text": [
      "Number of properties: 5126\n"
     ]
    }
   ],
   "source": [
    "# Number of propeties\n",
    "print(\"Number of properties: {0}\".format(len(history)))"
   ]
  },
  {
   "cell_type": "code",
   "execution_count": 14,
   "metadata": {},
   "outputs": [
    {
     "name": "stdout",
     "output_type": "stream",
     "text": [
      "31 items have a support greater than 0.7\n"
     ]
    }
   ],
   "source": [
    "# Count items \n",
    "sum_items = len(list(frequent_itemsets(history, min_support)))                \n",
    "print(\"{0} items have a support greater than {1}\".format(sum_items,min_support))"
   ]
  },
  {
   "cell_type": "code",
   "execution_count": 15,
   "metadata": {},
   "outputs": [],
   "source": [
    "#iterable = [(support,decode_code_list(itemset)) for itemset, support in frequent_itemsets(history,min_support)]"
   ]
  },
  {
   "cell_type": "code",
   "execution_count": 16,
   "metadata": {},
   "outputs": [],
   "source": [
    "def get_most_frequent(history, item_len, min_support):\n",
    "    \"\"\"\n",
    "    Input: - history,\n",
    "           - item_len, lenght of the most frequent items\n",
    "           - min_support, percentage, if this value is too low you might have performance issues\n",
    "    \n",
    "    Output: sorted list of most frequent items\n",
    "    \n",
    "    \"\"\"\n",
    "    gen = frequent_itemsets(history,min_support)\n",
    "    decoded_itemsets = [(support,decode_code_list(itemset)) for itemset, support in gen if (len(itemset) == item_len) and (('en','fr') not in decode_code_list(itemset))]\n",
    "    return list(reversed(sorted(decoded_itemsets)))"
   ]
  },
  {
   "cell_type": "code",
   "execution_count": 17,
   "metadata": {},
   "outputs": [],
   "source": [
    "exclude = ['en','ar','fr','uk','nl']"
   ]
  },
  {
   "cell_type": "code",
   "execution_count": 18,
   "metadata": {},
   "outputs": [],
   "source": [
    "def get_most_frequent_2(history, item_len, min_support):\n",
    "    \"\"\"\n",
    "    Input: - history,\n",
    "           - item_len, lenght of the most frequent items\n",
    "           - min_support, percentage, if this value is too low you might have performance issues\n",
    "    \n",
    "    Output: sorted list of most frequent items\n",
    "    \n",
    "    \"\"\"\n",
    "    gen = frequent_itemsets(history,min_support)\n",
    "    decoded_itemsets = [(support,decode_code_list(itemset)) for itemset, support in gen if (len(itemset) == item_len) and (len(set(exclude).intersection(decode_code_list(itemset)))==0)]\n",
    "    return list(reversed(sorted(decoded_itemsets)))"
   ]
  },
  {
   "cell_type": "code",
   "execution_count": 19,
   "metadata": {},
   "outputs": [
    {
     "data": {
      "text/plain": [
       "[(5126, ['en']),\n",
       " (5080, ['ar']),\n",
       " (4988, ['uk']),\n",
       " (4988, ['fr']),\n",
       " (3884, ['nl']),\n",
       " (3546, ['es']),\n",
       " (3518, ['mk']),\n",
       " (3392, ['de']),\n",
       " (3224, ['ru'])]"
      ]
     },
     "execution_count": 19,
     "metadata": {},
     "output_type": "execute_result"
    }
   ],
   "source": [
    "get_most_frequent(history,1,0.6)"
   ]
  },
  {
   "cell_type": "code",
   "execution_count": 20,
   "metadata": {},
   "outputs": [
    {
     "data": {
      "text/plain": [
       "[(2989, ['mk', 'es']),\n",
       " (2987, ['mk', 'de']),\n",
       " (2959, ['mk', 'ru']),\n",
       " (2947, ['es', 'de']),\n",
       " (2898, ['de', 'ru']),\n",
       " (2881, ['es', 'ru']),\n",
       " (2689, ['es', 'ca']),\n",
       " (2676, ['mk', 'ca']),\n",
       " (2626, ['ca', 'de']),\n",
       " (2564, ['ca', 'ru'])]"
      ]
     },
     "execution_count": 20,
     "metadata": {},
     "output_type": "execute_result"
    }
   ],
   "source": [
    "get_most_frequent_2(history, 2,0.5)"
   ]
  },
  {
   "cell_type": "code",
   "execution_count": 21,
   "metadata": {},
   "outputs": [
    {
     "data": {
      "text/plain": [
       "[(4950, ['en', 'ar', 'fr']),\n",
       " (4948, ['en', 'ar', 'uk']),\n",
       " (4870, ['en', 'fr', 'uk']),\n",
       " (4836, ['ar', 'fr', 'uk']),\n",
       " (3866, ['en', 'nl', 'uk']),\n",
       " (3862, ['en', 'nl', 'ar']),\n",
       " (3848, ['nl', 'ar', 'uk']),\n",
       " (3841, ['en', 'nl', 'fr']),\n",
       " (3823, ['nl', 'fr', 'uk']),\n",
       " (3821, ['ar', 'fr', 'nl'])]"
      ]
     },
     "execution_count": 21,
     "metadata": {},
     "output_type": "execute_result"
    }
   ],
   "source": [
    "get_most_frequent(history, 3,0.7)"
   ]
  },
  {
   "cell_type": "markdown",
   "metadata": {},
   "source": [
    "# Association rules analysis"
   ]
  },
  {
   "cell_type": "code",
   "execution_count": 22,
   "metadata": {},
   "outputs": [],
   "source": [
    "min_support = 0.7"
   ]
  },
  {
   "cell_type": "code",
   "execution_count": 23,
   "metadata": {},
   "outputs": [],
   "source": [
    "# association of the 4 most commun languages\n",
    "chinesse = ['zh-hans','zh','zh-mo','zh-my','zh-tw','zh-cn','zh-sg']\n",
    "latin = ['fr','es','it','pt','ro']\n",
    "top_latin = ['fr','es','it','pt','ca']\n",
    "cat = ['es','ca','en']\n",
    "fr = ['es','ca']\n",
    "es = ['zh-hans','es']\n",
    "al = ['es','ca','zh-hans']\n",
    "middle = ['es','mk','de','ru']#da"
   ]
  },
  {
   "cell_type": "code",
   "execution_count": 24,
   "metadata": {},
   "outputs": [
    {
     "data": {
      "text/plain": [
       "[(1.0, ['es', 'ca'], ['en'], 2689),\n",
       " (0.8933554817275747, ['en', 'ca'], ['es'], 2689),\n",
       " (0.8933554817275747, ['ca'], ['en', 'es'], 2689),\n",
       " (0.7583192329385223, ['es'], ['en', 'ca'], 2689),\n",
       " (0.7583192329385223, ['en', 'es'], ['ca'], 2689),\n",
       " (0.5245805696449474, ['en'], ['es', 'ca'], 2689)]"
      ]
     },
     "execution_count": 24,
     "metadata": {},
     "output_type": "execute_result"
    }
   ],
   "source": [
    "min_sup = 0.3\n",
    "itemset = frozenset(code_language_list(cat))\n",
    "itemsets_dict = dict(frequent_itemsets(history,min_sup))\n",
    "rules = association_rules(itemsets_dict,min_sup,itemset = itemset)\n",
    "decoded_itemsets = [(confidence, decode_code_list(antecedent),decode_code_list(consequent),support) for antecedent,consequent,support,confidence in list(rules)]\n",
    "list(reversed(sorted(decoded_itemsets)))"
   ]
  },
  {
   "cell_type": "code",
   "execution_count": 25,
   "metadata": {},
   "outputs": [
    {
     "data": {
      "image/png": "[encoded data removed]",
      "text/plain": [
       "<Figure size 432x288 with 1 Axes>"
      ]
     },
     "metadata": {},
     "output_type": "display_data"
    }
   ],
   "source": [
    "# First way to call the 2 group Venn diagram:\n",
    "venn2(subsets = (3518-2689, 3010-2689,2689), set_labels = ('Spanish', 'Catalan'))\n",
    "\n",
    "plt.show()\n",
    "#plt.savefig('img/catalan')"
   ]
  },
  {
   "cell_type": "code",
   "execution_count": 26,
   "metadata": {},
   "outputs": [
    {
     "data": {
      "text/plain": [
       "[(0.8933554817275747, ['ca'], ['es'], 2689),\n",
       " (0.7583192329385223, ['es'], ['ca'], 2689)]"
      ]
     },
     "execution_count": 26,
     "metadata": {},
     "output_type": "execute_result"
    }
   ],
   "source": [
    "min_sup = 0.3\n",
    "itemset = frozenset(code_language_list(fr))\n",
    "itemsets_dict = dict(frequent_itemsets(history,min_sup))\n",
    "rules = association_rules(itemsets_dict,min_sup,itemset = itemset)\n",
    "decoded_itemsets = [(confidence, decode_code_list(antecedent),decode_code_list(consequent),support) for antecedent,consequent,support,confidence in list(rules)]\n",
    "list(reversed(sorted(decoded_itemsets)))"
   ]
  },
  {
   "cell_type": "code",
   "execution_count": 27,
   "metadata": {},
   "outputs": [
    {
     "data": {
      "text/plain": [
       "[(1.0, ['es', 'ca'], ['en'], 2689),\n",
       " (0.8933554817275747, ['en', 'ca'], ['es'], 2689),\n",
       " (0.8933554817275747, ['ca'], ['en', 'es'], 2689),\n",
       " (0.7583192329385223, ['es'], ['en', 'ca'], 2689),\n",
       " (0.7583192329385223, ['en', 'es'], ['ca'], 2689),\n",
       " (0.5245805696449474, ['en'], ['es', 'ca'], 2689)]"
      ]
     },
     "execution_count": 27,
     "metadata": {},
     "output_type": "execute_result"
    }
   ],
   "source": [
    "min_sup = 0.3\n",
    "itemset = frozenset(code_language_list(cat))\n",
    "itemsets_dict = dict(frequent_itemsets(history,min_sup))\n",
    "rules = association_rules(itemsets_dict,min_sup,itemset = itemset)\n",
    "decoded_itemsets = [(confidence, decode_code_list(antecedent),decode_code_list(consequent),support) for antecedent,consequent,support,confidence in list(rules)]\n",
    "list(reversed(sorted(decoded_itemsets)))"
   ]
  },
  {
   "cell_type": "code",
   "execution_count": 28,
   "metadata": {
    "scrolled": false
   },
   "outputs": [
    {
     "data": {
      "text/plain": [
       "[(0.9554030874785592, ['ca', 'zh-hans'], ['es'], 1671),\n",
       " (0.8893028206492816, ['es', 'zh-hans'], ['ca'], 1671),\n",
       " (0.7761263353460288, ['zh-hans'], ['es', 'ca'], 1671),\n",
       " (0.6214206024544441, ['es', 'ca'], ['zh-hans'], 1671),\n",
       " (0.5551495016611295, ['ca'], ['es', 'zh-hans'], 1671),\n",
       " (0.4712351945854484, ['es'], ['ca', 'zh-hans'], 1671)]"
      ]
     },
     "execution_count": 28,
     "metadata": {},
     "output_type": "execute_result"
    }
   ],
   "source": [
    "min_sup = 0.3\n",
    "itemset = frozenset(code_language_list(al))\n",
    "itemsets_dict = dict(frequent_itemsets(history,min_sup))\n",
    "rules = association_rules(itemsets_dict,min_sup,itemset = itemset)\n",
    "decoded_itemsets = [(confidence, decode_code_list(antecedent),decode_code_list(consequent),support) for antecedent,consequent,support,confidence in list(rules)]\n",
    "list(reversed(sorted(decoded_itemsets)))"
   ]
  },
  {
   "cell_type": "code",
   "execution_count": 29,
   "metadata": {
    "scrolled": false
   },
   "outputs": [
    {
     "data": {
      "text/plain": [
       "[(0.6067108856808427, ['en'], ['nl', 'mk', 'uk'], 3110),\n",
       " (0.6063207179087008, ['en'], ['nl', 'mk', 'ar'], 3108),\n",
       " (0.6059055118110236, ['en', 'ar'], ['nl', 'mk', 'fr', 'uk'], 3078),\n",
       " (0.6059055118110236, ['ar'], ['nl', 'mk', 'fr', 'uk'], 3078),\n",
       " (0.6059055118110236, ['ar'], ['en', 'fr', 'uk', 'nl', 'mk'], 3078),\n",
       " (0.6047600468201326, ['en'], ['nl', 'mk', 'ar', 'uk'], 3100),\n",
       " (0.6039797112758486, ['en'], ['nl', 'mk', 'fr'], 3096),\n",
       " (0.6024190401872805, ['en'], ['nl', 'mk', 'fr', 'uk'], 3088),\n",
       " (0.6020288724151385, ['en'], ['fr', 'nl', 'mk', 'ar'], 3086),\n",
       " (0.6004682013265704, ['en'], ['ar', 'fr', 'uk', 'nl', 'mk'], 3078)]"
      ]
     },
     "execution_count": 29,
     "metadata": {},
     "output_type": "execute_result"
    }
   ],
   "source": [
    "min_sup = 0.6\n",
    "itemset = frozenset(code_language_list(middle))\n",
    "itemsets_dict = dict(frequent_itemsets(history,min_sup))\n",
    "rules = association_rules(itemsets_dict,0.2)\n",
    "decoded_itemsets = [(confidence, decode_code_list(antecedent),decode_code_list(consequent),support) for antecedent,consequent,support,confidence in list(rules)]\n",
    "list(reversed(sorted(decoded_itemsets)))[-10:]"
   ]
  }
 ],
 "metadata": {
  "kernelspec": {
   "display_name": "Python 3",
   "language": "python",
   "name": "python3"
  },
  "language_info": {
   "codemirror_mode": {
    "name": "ipython",
    "version": 3
   },
   "file_extension": ".py",
   "mimetype": "text/x-python",
   "name": "python",
   "nbconvert_exporter": "python",
   "pygments_lexer": "ipython3",
   "version": "3.6.5"
  }
 },
 "nbformat": 4,
 "nbformat_minor": 2
}
